{
 "cells": [
  {
   "cell_type": "code",
   "execution_count": 16,
   "id": "a042247c",
   "metadata": {},
   "outputs": [],
   "source": [
    "#when a function is a method of a class, you need to add an additional arguement(self)\n",
    "#basically you will have to add the argument to ant method in the class\n",
    "class Robot:\n",
    "    def _init_(self, n, c, w):\n",
    "        self.name=n\n",
    "        self.colour=c\n",
    "        self.age=w\n",
    "    def introduction(self):\n",
    "        print(\"my name is:\" +self.name)#this in java\n",
    "        "
   ]
  },
  {
   "cell_type": "code",
   "execution_count": 13,
   "id": "f37c457a",
   "metadata": {},
   "outputs": [],
   "source": [
    "#add objects\n",
    "#to comment muliple lines use ctrl+/    to uncomment do the same\n",
    "# r1=Robot()\n",
    "# r1.name=\"tom\"\n",
    "# r1.colour=\"red\"\n",
    "# r1.age=4\n",
    "\n",
    "# r2=Robot()\n",
    "# r2.name=\"jerry\"\n",
    "# r2.colour=\"blue\"\n",
    "# r2.age=5\n",
    "\n"
   ]
  },
  {
   "cell_type": "code",
   "execution_count": 18,
   "id": "7afc2d93",
   "metadata": {},
   "outputs": [],
   "source": [
    "\n",
    "r1=Robot()\n",
    "r2=Robot()\n"
   ]
  },
  {
   "cell_type": "code",
   "execution_count": 19,
   "id": "025dffa3",
   "metadata": {},
   "outputs": [
    {
     "ename": "TypeError",
     "evalue": "Robot() takes no arguments",
     "output_type": "error",
     "traceback": [
      "\u001b[1;31m---------------------------------------------------------------------------\u001b[0m",
      "\u001b[1;31mTypeError\u001b[0m                                 Traceback (most recent call last)",
      "\u001b[1;32m<ipython-input-19-3b3c1c918327>\u001b[0m in \u001b[0;36m<module>\u001b[1;34m\u001b[0m\n\u001b[0;32m      1\u001b[0m \u001b[1;31m#ignnore (comment)the above lines of code\u001b[0m\u001b[1;33m\u001b[0m\u001b[1;33m\u001b[0m\u001b[1;33m\u001b[0m\u001b[0m\n\u001b[1;32m----> 2\u001b[1;33m \u001b[0mr1\u001b[0m\u001b[1;33m=\u001b[0m\u001b[0mRobot\u001b[0m\u001b[1;33m(\u001b[0m\u001b[1;34m\"tom\"\u001b[0m\u001b[1;33m,\u001b[0m \u001b[1;34m\"red\"\u001b[0m\u001b[1;33m,\u001b[0m \u001b[1;36m4\u001b[0m\u001b[1;33m)\u001b[0m\u001b[1;33m\u001b[0m\u001b[1;33m\u001b[0m\u001b[0m\n\u001b[0m\u001b[0;32m      3\u001b[0m \u001b[0mr2\u001b[0m\u001b[1;33m=\u001b[0m\u001b[0mRobot\u001b[0m\u001b[1;33m(\u001b[0m\u001b[1;34m\"jerry\"\u001b[0m\u001b[1;33m,\u001b[0m \u001b[1;34m\"blue\"\u001b[0m\u001b[1;33m,\u001b[0m \u001b[1;36m5\u001b[0m\u001b[1;33m)\u001b[0m\u001b[1;33m\u001b[0m\u001b[1;33m\u001b[0m\u001b[0m\n",
      "\u001b[1;31mTypeError\u001b[0m: Robot() takes no arguments"
     ]
    }
   ],
   "source": [
    "#ignnore (comment)the above lines of code\n",
    "r1=Robot(\"tom\", \"red\", 4)\n",
    "r2=Robot(\"jerry\", \"blue\", 5)"
   ]
  },
  {
   "cell_type": "code",
   "execution_count": 13,
   "id": "f5f0320f",
   "metadata": {},
   "outputs": [
    {
     "ename": "NameError",
     "evalue": "name 'r1' is not defined",
     "output_type": "error",
     "traceback": [
      "\u001b[1;31m---------------------------------------------------------------------------\u001b[0m",
      "\u001b[1;31mNameError\u001b[0m                                 Traceback (most recent call last)",
      "\u001b[1;32m<ipython-input-13-d8f7987ce019>\u001b[0m in \u001b[0;36m<module>\u001b[1;34m\u001b[0m\n\u001b[1;32m----> 1\u001b[1;33m \u001b[0mr1\u001b[0m\u001b[1;33m.\u001b[0m\u001b[0mintroduction\u001b[0m\u001b[1;33m(\u001b[0m\u001b[1;33m)\u001b[0m\u001b[1;33m\u001b[0m\u001b[1;33m\u001b[0m\u001b[0m\n\u001b[0m\u001b[0;32m      2\u001b[0m \u001b[0mr2\u001b[0m\u001b[1;33m.\u001b[0m\u001b[0mintroduction\u001b[0m\u001b[1;33m(\u001b[0m\u001b[1;33m)\u001b[0m\u001b[1;33m\u001b[0m\u001b[1;33m\u001b[0m\u001b[0m\n",
      "\u001b[1;31mNameError\u001b[0m: name 'r1' is not defined"
     ]
    }
   ],
   "source": []
  },
  {
   "cell_type": "code",
   "execution_count": null,
   "id": "f2c49403",
   "metadata": {},
   "outputs": [],
   "source": [
    " #true/false are boolean\n",
    "    "
   ]
  },
  {
   "cell_type": "code",
   "execution_count": 2,
   "id": "bcc20ba6",
   "metadata": {},
   "outputs": [],
   "source": [
    "class person:\n",
    "#constructor\n",
    "    def _init_(self, n, p, i,):\n",
    "        self.name=n\n",
    "        self.personality=p\n",
    "        self.is_sitting=i\n",
    "    def sit_down(self):\n",
    "        self.is_sitting=True\n",
    "    def stand_up(self):\n",
    "        self.is_sitting=False\n",
    "        "
   ]
  },
  {
   "cell_type": "code",
   "execution_count": 4,
   "id": "24ce1fb5",
   "metadata": {},
   "outputs": [],
   "source": [
    "p1=person=(\"jane\", \"introvert\", False)\n",
    "p2=person=(\"emma\", \"colleric\", True)\n"
   ]
  },
  {
   "cell_type": "code",
   "execution_count": 5,
   "id": "ca8a183b",
   "metadata": {},
   "outputs": [
    {
     "ename": "NameError",
     "evalue": "name 'r2' is not defined",
     "output_type": "error",
     "traceback": [
      "\u001b[1;31m---------------------------------------------------------------------------\u001b[0m",
      "\u001b[1;31mNameError\u001b[0m                                 Traceback (most recent call last)",
      "\u001b[1;32m<ipython-input-5-779b08bf68b5>\u001b[0m in \u001b[0;36m<module>\u001b[1;34m\u001b[0m\n\u001b[0;32m      1\u001b[0m \u001b[1;31m#p1 owns r2 in ln 14\u001b[0m\u001b[1;33m\u001b[0m\u001b[1;33m\u001b[0m\u001b[1;33m\u001b[0m\u001b[0m\n\u001b[1;32m----> 2\u001b[1;33m \u001b[0mp1\u001b[0m\u001b[1;33m.\u001b[0m\u001b[0mrobot_owned\u001b[0m\u001b[1;33m=\u001b[0m\u001b[0mr2\u001b[0m\u001b[1;33m\u001b[0m\u001b[1;33m\u001b[0m\u001b[0m\n\u001b[0m\u001b[0;32m      3\u001b[0m \u001b[0mp2\u001b[0m\u001b[1;33m.\u001b[0m\u001b[0mrobot_owned\u001b[0m\u001b[1;33m=\u001b[0m\u001b[0mr1\u001b[0m\u001b[1;33m\u001b[0m\u001b[1;33m\u001b[0m\u001b[0m\n",
      "\u001b[1;31mNameError\u001b[0m: name 'r2' is not defined"
     ]
    }
   ],
   "source": [
    "#p1 owns r2 in ln 14\n",
    "p1.robot_owned=r2\n",
    "p2.robot_owned=r1 \n"
   ]
  },
  {
   "cell_type": "code",
   "execution_count": null,
   "id": "45f6bf3a",
   "metadata": {},
   "outputs": [],
   "source": []
  }
 ],
 "metadata": {
  "kernelspec": {
   "display_name": "Python 3",
   "language": "python",
   "name": "python3"
  },
  "language_info": {
   "codemirror_mode": {
    "name": "ipython",
    "version": 3
   },
   "file_extension": ".py",
   "mimetype": "text/x-python",
   "name": "python",
   "nbconvert_exporter": "python",
   "pygments_lexer": "ipython3",
   "version": "3.8.8"
  }
 },
 "nbformat": 4,
 "nbformat_minor": 5
}
